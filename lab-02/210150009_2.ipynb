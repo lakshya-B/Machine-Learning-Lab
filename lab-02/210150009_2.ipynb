{
 "cells": [
  {
   "cell_type": "code",
   "execution_count": 18,
   "metadata": {},
   "outputs": [],
   "source": [
    "import numpy as np\n",
    "import pandas as pd\n",
    "import matplotlib.image as img\n",
    "import matplotlib.pyplot as plt\n",
    "import cv2\n",
    "import scipy\n",
    "from scipy import stats\n",
    "import glob"
   ]
  },
  {
   "cell_type": "code",
   "execution_count": 72,
   "metadata": {},
   "outputs": [],
   "source": [
    "dataset = []\n",
    "#200 images in each train\n",
    "dataset.append([cv2.imread(file) for file in glob.glob('TrainCharacters/1/*.jpg')])\n",
    "dataset.append([cv2.imread(file) for file in glob.glob('TrainCharacters/2/*.jpg')])\n",
    "dataset.append([cv2.imread(file) for file in glob.glob('TrainCharacters/3/*.jpg')])\n",
    "\n",
    "#100 images in each test\n",
    "test_1 = [cv2.imread(file) for file in glob.glob('TestCharacters/1/*.jpg')]\n",
    "test_2 = [cv2.imread(file) for file in glob.glob('TestCharacters/2/*.jpg')]\n",
    "test_3 = [cv2.imread(file) for file in glob.glob('TestCharacters/3/*.jpg')]"
   ]
  },
  {
   "cell_type": "code",
   "execution_count": 73,
   "metadata": {},
   "outputs": [],
   "source": [
    "resized = []\n",
    "for image in dataset[0]:\n",
    "    img = cv2.resize(image, (0, 0), fx = 0.25, fy = 0.25)\n",
    "    gray_img = np.mean(img,axis = 2)\n",
    "    resized.append(gray_img)"
   ]
  },
  {
   "cell_type": "code",
   "execution_count": 75,
   "metadata": {},
   "outputs": [],
   "source": [
    "def summ(dataset):\n",
    "    s = [(np.mean(cols),np.std(cols)) for cols in zip(*dataset)]\n",
    "    del(s[-1])\n",
    "    return s\n",
    "\n",
    "r = summ(resized)"
   ]
  },
  {
   "cell_type": "code",
   "execution_count": 58,
   "metadata": {},
   "outputs": [
    {
     "data": {
      "text/plain": [
       "(32, 32)"
      ]
     },
     "execution_count": 58,
     "metadata": {},
     "output_type": "execute_result"
    }
   ],
   "source": [
    "#covarience matrix\n",
    "cov_mat = np.cov(resized[0])\n",
    "cov_mat.shape"
   ]
  }
 ],
 "metadata": {
  "kernelspec": {
   "display_name": "Python 3",
   "language": "python",
   "name": "python3"
  },
  "language_info": {
   "codemirror_mode": {
    "name": "ipython",
    "version": 3
   },
   "file_extension": ".py",
   "mimetype": "text/x-python",
   "name": "python",
   "nbconvert_exporter": "python",
   "pygments_lexer": "ipython3",
   "version": "3.10.12"
  },
  "orig_nbformat": 4,
  "vscode": {
   "interpreter": {
    "hash": "916dbcbb3f70747c44a77c7bcd40155683ae19c65e1c03b4aa3499c5328201f1"
   }
  }
 },
 "nbformat": 4,
 "nbformat_minor": 2
}
