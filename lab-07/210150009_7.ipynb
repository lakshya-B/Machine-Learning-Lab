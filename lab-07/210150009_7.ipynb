{
 "cells": [
  {
   "attachments": {},
   "cell_type": "markdown",
   "metadata": {},
   "source": [
    "## TASK-A"
   ]
  },
  {
   "attachments": {},
   "cell_type": "markdown",
   "metadata": {},
   "source": [
    "### 1. estimating parzen window density"
   ]
  },
  {
   "cell_type": "code",
   "execution_count": 47,
   "metadata": {},
   "outputs": [],
   "source": [
    "import pandas as pd\n",
    "import numpy as np\n",
    "import matplotlib.pyplot as plt"
   ]
  },
  {
   "cell_type": "code",
   "execution_count": 48,
   "metadata": {},
   "outputs": [
    {
     "data": {
      "text/html": [
       "<div>\n",
       "<style scoped>\n",
       "    .dataframe tbody tr th:only-of-type {\n",
       "        vertical-align: middle;\n",
       "    }\n",
       "\n",
       "    .dataframe tbody tr th {\n",
       "        vertical-align: top;\n",
       "    }\n",
       "\n",
       "    .dataframe thead th {\n",
       "        text-align: right;\n",
       "    }\n",
       "</style>\n",
       "<table border=\"1\" class=\"dataframe\">\n",
       "  <thead>\n",
       "    <tr style=\"text-align: right;\">\n",
       "      <th></th>\n",
       "      <th>Class1</th>\n",
       "      <th>Class2</th>\n",
       "    </tr>\n",
       "  </thead>\n",
       "  <tbody>\n",
       "    <tr>\n",
       "      <th>0</th>\n",
       "      <td>6.331587</td>\n",
       "      <td>8.117476</td>\n",
       "    </tr>\n",
       "    <tr>\n",
       "      <th>1</th>\n",
       "      <td>5.715279</td>\n",
       "      <td>6.092543</td>\n",
       "    </tr>\n",
       "    <tr>\n",
       "      <th>2</th>\n",
       "      <td>3.454600</td>\n",
       "      <td>7.077091</td>\n",
       "    </tr>\n",
       "    <tr>\n",
       "      <th>3</th>\n",
       "      <td>4.991616</td>\n",
       "      <td>8.469751</td>\n",
       "    </tr>\n",
       "    <tr>\n",
       "      <th>4</th>\n",
       "      <td>5.621336</td>\n",
       "      <td>7.855633</td>\n",
       "    </tr>\n",
       "  </tbody>\n",
       "</table>\n",
       "</div>"
      ],
      "text/plain": [
       "     Class1    Class2\n",
       "0  6.331587  8.117476\n",
       "1  5.715279  6.092543\n",
       "2  3.454600  7.077091\n",
       "3  4.991616  8.469751\n",
       "4  5.621336  7.855633"
      ]
     },
     "execution_count": 48,
     "metadata": {},
     "output_type": "execute_result"
    }
   ],
   "source": [
    "data1 = pd.read_csv(\"Parzen_Window_1_data.csv\")\n",
    "data1.head()"
   ]
  },
  {
   "cell_type": "code",
   "execution_count": 49,
   "metadata": {},
   "outputs": [],
   "source": [
    "seq = pd.concat([data1['Class1'], data1['Class2']],ignore_index=True)\n",
    "df = pd.DataFrame(seq)"
   ]
  },
  {
   "cell_type": "code",
   "execution_count": 58,
   "metadata": {},
   "outputs": [],
   "source": [
    "def gaussian_func(x,data):\n",
    "    mean = np.mean(data,axis=0)\n",
    "    power = (-1/2)*((x - mean))@(np.transpose(x-mean))\n",
    "    const = ((2*np.pi)**(data.shape[1]/2))\n",
    "    return (1/const)*np.exp(power)"
   ]
  },
  {
   "cell_type": "code",
   "execution_count": 59,
   "metadata": {},
   "outputs": [],
   "source": [
    "def parzen_density_gaussian(x,data,h):\n",
    "    density = 0\n",
    "    for n in range(0,data.shape[0]):\n",
    "        density += (1/(n+1)*h)*gaussian_func(((x-data.iloc[n])/h) ,data)\n",
    "\n",
    "    return density"
   ]
  },
  {
   "cell_type": "code",
   "execution_count": null,
   "metadata": {},
   "outputs": [],
   "source": [
    "parzen = np.zeros((64,))\n",
    "index = 0\n",
    "mini = df.min(axis=0)\n",
    "maxi = df.max(axis=0)\n",
    "h_list = [0.1,0.5,1,2,4]\n",
    "\n",
    "fig,ax = plt.subplots(nrows = 1 , ncols = 1, figsize = (10,10))\n",
    "for h in h_list:\n",
    "    for x1 in np.linspace(mini, maxi, 1000):\n",
    "        parzen[index] = parzen_density_gaussian(x1,df,h)\n",
    "\n",
    "    ax.plot(np.linspace(mini, maxi, 1000),parzen)\n",
    "    \n",
    "    index += 1"
   ]
  },
  {
   "cell_type": "code",
   "execution_count": 9,
   "metadata": {},
   "outputs": [
    {
     "data": {
      "text/html": [
       "<div>\n",
       "<style scoped>\n",
       "    .dataframe tbody tr th:only-of-type {\n",
       "        vertical-align: middle;\n",
       "    }\n",
       "\n",
       "    .dataframe tbody tr th {\n",
       "        vertical-align: top;\n",
       "    }\n",
       "\n",
       "    .dataframe thead th {\n",
       "        text-align: right;\n",
       "    }\n",
       "</style>\n",
       "<table border=\"1\" class=\"dataframe\">\n",
       "  <thead>\n",
       "    <tr style=\"text-align: right;\">\n",
       "      <th></th>\n",
       "      <th>X</th>\n",
       "      <th>Y</th>\n",
       "    </tr>\n",
       "  </thead>\n",
       "  <tbody>\n",
       "    <tr>\n",
       "      <th>0</th>\n",
       "      <td>3.489173</td>\n",
       "      <td>4.204452</td>\n",
       "    </tr>\n",
       "    <tr>\n",
       "      <th>1</th>\n",
       "      <td>6.342548</td>\n",
       "      <td>6.334164</td>\n",
       "    </tr>\n",
       "    <tr>\n",
       "      <th>2</th>\n",
       "      <td>4.821950</td>\n",
       "      <td>4.101864</td>\n",
       "    </tr>\n",
       "    <tr>\n",
       "      <th>3</th>\n",
       "      <td>4.715786</td>\n",
       "      <td>4.824334</td>\n",
       "    </tr>\n",
       "    <tr>\n",
       "      <th>4</th>\n",
       "      <td>5.083584</td>\n",
       "      <td>4.908983</td>\n",
       "    </tr>\n",
       "  </tbody>\n",
       "</table>\n",
       "</div>"
      ],
      "text/plain": [
       "          X         Y\n",
       "0  3.489173  4.204452\n",
       "1  6.342548  6.334164\n",
       "2  4.821950  4.101864\n",
       "3  4.715786  4.824334\n",
       "4  5.083584  4.908983"
      ]
     },
     "execution_count": 9,
     "metadata": {},
     "output_type": "execute_result"
    }
   ],
   "source": [
    "data2 = pd.read_csv(\"Parzen_Window_2_data.csv\")\n",
    "data2.head()"
   ]
  },
  {
   "attachments": {},
   "cell_type": "markdown",
   "metadata": {},
   "source": [
    "## TASK-B"
   ]
  },
  {
   "attachments": {},
   "cell_type": "markdown",
   "metadata": {},
   "source": [
    "### DTW"
   ]
  },
  {
   "cell_type": "code",
   "execution_count": 19,
   "metadata": {},
   "outputs": [],
   "source": [
    "x = pd.read_csv(\"DTW_ts1_data.csv\")\n",
    "y = pd.read_csv(\"DTW_ts2_data.csv\")"
   ]
  },
  {
   "cell_type": "code",
   "execution_count": 20,
   "metadata": {},
   "outputs": [],
   "source": [
    "x = x.values\n",
    "y = y.values"
   ]
  },
  {
   "cell_type": "code",
   "execution_count": 21,
   "metadata": {},
   "outputs": [],
   "source": [
    "def euclid_dist(a,b):\n",
    "    dist = np.sum((a - b)**2)\n",
    "    return (dist)**(1/2)"
   ]
  },
  {
   "cell_type": "code",
   "execution_count": 29,
   "metadata": {},
   "outputs": [],
   "source": [
    "s = np.full((x.shape[0]+1, y.shape[0]+1), np.inf)\n",
    "b = np.zeros((x.shape[0]+1,y.shape[0]+1))\n",
    "\n",
    "# 0 - (i-1,j), 1 - (i-1,j-1), 2 - (i,j-1) \n",
    "\n",
    "s[0][0] = 0\n",
    "for i in range(1,x.shape[0]+1):\n",
    "    for j in range(1,y.shape[0]+1):\n",
    "        mini = min(s[i-1][j],s[i-1][j-1],s[i][j-1])\n",
    "        min_ind = np.argmin([s[i-1][j],s[i-1][j-1],s[i][j-1]])\n",
    "\n",
    "        s[i][j] = euclid_dist(x[i-1],y[j-1]) + mini\n",
    "        b[i][j] = min_ind"
   ]
  },
  {
   "cell_type": "code",
   "execution_count": 31,
   "metadata": {},
   "outputs": [
    {
     "data": {
      "text/plain": [
       "83.09060790655447"
      ]
     },
     "execution_count": 31,
     "metadata": {},
     "output_type": "execute_result"
    }
   ],
   "source": [
    "s[100][110]"
   ]
  },
  {
   "cell_type": "code",
   "execution_count": 36,
   "metadata": {},
   "outputs": [],
   "source": [
    "x_index = []\n",
    "y_index = []\n",
    "\n",
    "i = 100\n",
    "j = 110\n",
    "while (i!=0 and j!=0):\n",
    "    p = b[i-1][j-1]\n",
    "    if p == 0:\n",
    "        x_index.append(i-1)\n",
    "        y_index.append(j)\n",
    "        i = i -1\n",
    "        j = j\n",
    "\n",
    "    elif p == 1:\n",
    "        x_index.append(i-1)\n",
    "        y_index.append(j-1)\n",
    "        i = i-1\n",
    "        j = j-1\n",
    "\n",
    "    elif p == 2:\n",
    "        x_index.append(i)\n",
    "        y_index.append(j-1)\n",
    "        i = i\n",
    "        j = j -1"
   ]
  },
  {
   "cell_type": "code",
   "execution_count": 37,
   "metadata": {},
   "outputs": [
    {
     "data": {
      "text/plain": [
       "[<matplotlib.lines.Line2D at 0x7f87a67d11e0>]"
      ]
     },
     "execution_count": 37,
     "metadata": {},
     "output_type": "execute_result"
    },
    {
     "data": {
      "image/png": "[encoded data removed]",
      "text/plain": [
       "<Figure size 640x480 with 1 Axes>"
      ]
     },
     "metadata": {},
     "output_type": "display_data"
    }
   ],
   "source": [
    "plt.plot(x_index,y_index)"
   ]
  }
 ],
 "metadata": {
  "kernelspec": {
   "display_name": "Python 3",
   "language": "python",
   "name": "python3"
  },
  "language_info": {
   "codemirror_mode": {
    "name": "ipython",
    "version": 3
   },
   "file_extension": ".py",
   "mimetype": "text/x-python",
   "name": "python",
   "nbconvert_exporter": "python",
   "pygments_lexer": "ipython3",
   "version": "3.10.12"
  },
  "orig_nbformat": 4,
  "vscode": {
   "interpreter": {
    "hash": "916dbcbb3f70747c44a77c7bcd40155683ae19c65e1c03b4aa3499c5328201f1"
   }
  }
 },
 "nbformat": 4,
 "nbformat_minor": 2
}
