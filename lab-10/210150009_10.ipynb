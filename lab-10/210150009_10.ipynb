{
 "cells": [
  {
   "cell_type": "code",
   "execution_count": 83,
   "metadata": {},
   "outputs": [],
   "source": [
    "import numpy as np"
   ]
  },
  {
   "attachments": {},
   "cell_type": "markdown",
   "metadata": {},
   "source": [
    "## Q1"
   ]
  },
  {
   "cell_type": "code",
   "execution_count": 121,
   "metadata": {},
   "outputs": [],
   "source": [
    "A = np.array([[0.6,0.2,0.0,0.1,0.1],[0.0,0.3,0.5,0.2,0.0],[0.2,0.0,0.4,0.3,0.1],[0.1,0.1,0.2,0.2,0.4],[0.3,0.2,0.0,0.3,0.2]]) #state transition matrix\n",
    "n = A.shape[0] # no.of states\n",
    "Pi = np.array([0.2,0.2,0.2,0.2,0.2]) #initial state probabilities\n",
    "#code to estimate probability of seeing state 2 at t = 4\n",
    "T = 4 #final time\n",
    "S = 1 #xstate 2 -> index = 1\n"
   ]
  },
  {
   "attachments": {},
   "cell_type": "markdown",
   "metadata": {},
   "source": [
    "### without DP"
   ]
  },
  {
   "cell_type": "code",
   "execution_count": 122,
   "metadata": {},
   "outputs": [
    {
     "name": "stdout",
     "output_type": "stream",
     "text": [
      "0.15339999999999976\n"
     ]
    }
   ],
   "source": [
    "prob = 0\n",
    "#t = 0 to t = 4 -> 4 transitions\n",
    "for s0 in range(n):\n",
    "    for s1 in range(n):\n",
    "        for s2 in range(n):\n",
    "            for s3 in range(n):\n",
    "                prob += Pi[s0]*A[s0][s1]*A[s1][s2]*A[s2][s3]*A[s3][S]\n",
    "print(prob)\n",
    "                "
   ]
  },
  {
   "attachments": {},
   "cell_type": "markdown",
   "metadata": {},
   "source": [
    "### DP"
   ]
  },
  {
   "cell_type": "code",
   "execution_count": 128,
   "metadata": {},
   "outputs": [
    {
     "name": "stdout",
     "output_type": "stream",
     "text": [
      "0.15340000000000004\n"
     ]
    }
   ],
   "source": [
    "DP = np.zeros((T+1,n))\n",
    "for i in range(n):\n",
    "    DP[0][i] = Pi[i]\n",
    "\n",
    "for t in range(1,T+1):\n",
    "    for i in range(n):\n",
    "        DP[t][i]=0\n",
    "        for j in range(n):\n",
    "            DP[t][i]+= DP[t-1][j]*A[j][i]\n",
    "print(DP[4][1])\n"
   ]
  },
  {
   "attachments": {},
   "cell_type": "markdown",
   "metadata": {},
   "source": [
    "## Q2"
   ]
  },
  {
   "cell_type": "code",
   "execution_count": 129,
   "metadata": {},
   "outputs": [],
   "source": [
    "A = np.array([[0,0.5,0.5],[1,0,0],[0,1,0]]) #state transition matrix\n",
    "n = A.shape[0] # no.of states\n",
    "B = np.array([[0.5,0.5,0],[0.3,0.3,0.4],[0.25,0,0.75]]) #state-action matrix\n",
    "Pi = np.array([0.25,0.75,0])\n",
    "# O = a,c,a,a,b \n",
    "O = np.array([0,2,0,0,1])\n",
    "T = 4 #final time"
   ]
  },
  {
   "attachments": {},
   "cell_type": "markdown",
   "metadata": {},
   "source": [
    "### WITHOUT DP"
   ]
  },
  {
   "cell_type": "code",
   "execution_count": 138,
   "metadata": {},
   "outputs": [
    {
     "name": "stdout",
     "output_type": "stream",
     "text": [
      "0.0024609374999999996\n"
     ]
    }
   ],
   "source": [
    "#t = 0 to t = 4 -> 4 transitions\n",
    "prob = 0\n",
    "for s0 in range(n):\n",
    "    for s1 in range(n):\n",
    "        for s2 in range(n):\n",
    "            for s3 in range(n):\n",
    "                for s4 in range(n):\n",
    "                    prob += Pi[s0]*B[s0][O[0]]*A[s0][s1]*B[s1][O[1]]*A[s1][s2]*B[s2][O[2]]*A[s2][s3]*B[s3][O[3]]*A[s3][s4]*B[s4][O[4]]\n",
    "print(prob)\n"
   ]
  },
  {
   "attachments": {},
   "cell_type": "markdown",
   "metadata": {},
   "source": [
    "### WITH DP"
   ]
  },
  {
   "cell_type": "code",
   "execution_count": 139,
   "metadata": {},
   "outputs": [
    {
     "name": "stdout",
     "output_type": "stream",
     "text": [
      "0.0024609374999999996\n"
     ]
    }
   ],
   "source": [
    "DP = np.zeros((T+1,n))\n",
    "for i in range(n):\n",
    "    DP[0][i] = Pi[i]*B[i][O[0]]\n",
    "\n",
    "for t in range(1,T+1):\n",
    "    for i in range(n):\n",
    "        DP[t][i]=0\n",
    "        for j in range(n):\n",
    "            DP[t][i]+= DP[t-1][j]*A[j][i]*B[i][O[t]]\n",
    "print(np.sum(DP[4]))\n"
   ]
  },
  {
   "cell_type": "code",
   "execution_count": 140,
   "metadata": {},
   "outputs": [
    {
     "name": "stdout",
     "output_type": "stream",
     "text": [
      "[[0.125      0.225      0.        ]\n",
      " [0.         0.025      0.046875  ]\n",
      " [0.0125     0.0140625  0.        ]\n",
      " [0.00703125 0.001875   0.0015625 ]\n",
      " [0.0009375  0.00152344 0.        ]]\n"
     ]
    }
   ],
   "source": [
    "DP = np.zeros((T+1,n))\n",
    "for i in range(n):\n",
    "    DP[0][i] = Pi[i]*B[i][O[0]]\n",
    "\n",
    "for t in range(1,T+1):\n",
    "    for i in range(n):\n",
    "        DP[t][i]=0\n",
    "        for j in range(n):\n",
    "            DP[t][i]+= DP[t-1][j]*A[j][i]*B[i][O[t]]\n",
    "print(DP)"
   ]
  },
  {
   "cell_type": "code",
   "execution_count": 165,
   "metadata": {},
   "outputs": [
    {
     "name": "stdout",
     "output_type": "stream",
     "text": [
      "state : 1\n",
      "state : 3\n",
      "state : 2\n"
     ]
    }
   ],
   "source": [
    "A = np.array([[0,0.5,0.5],[1,0,0],[0,1,0]]) #state transition matrix\n",
    "n = A.shape[0] # no.of states\n",
    "B = np.array([[0.5,0.5,0],[0.3,0.3,0.4],[0.25,0,0.75]]) #state-action matrix\n",
    "Pi = np.array([0.25,0.75,0])\n",
    "\n",
    "# O = a,c,a\n",
    "O = np.array([0,2,0])\n",
    "T = 2 #final time\n",
    "\n",
    "index = np.zeros((T+1,n))\n",
    "\n",
    "DP = np.zeros((T+1,n))\n",
    "for i in range(n):\n",
    "    DP[0][i] = Pi[i]*B[i][O[0]]\n",
    "\n",
    "\n",
    "for t in range(1,T+1):\n",
    "    for i in range(n):\n",
    "        DP[t][i]=0.0\n",
    "        index[t][i] = -1.0\n",
    "        maxi = -1.0\n",
    "        for j in range(n):\n",
    "            if DP[t-1][j]*A[j][i]*B[i][O[t]] > maxi:\n",
    "                index[t][i] = j\n",
    "            maxi = max(DP[t-1][j]*A[j][i]*B[i][O[t]],maxi)\n",
    "            \n",
    "\n",
    "\n",
    "        DP[t][i] = maxi\n",
    "for i in range(2,-1,-1):\n",
    "    print(\"state :\",int(index[2][i] +1))"
   ]
  },
  {
   "cell_type": "code",
   "execution_count": null,
   "metadata": {},
   "outputs": [],
   "source": []
  }
 ],
 "metadata": {
  "kernelspec": {
   "display_name": "Python 3",
   "language": "python",
   "name": "python3"
  },
  "language_info": {
   "codemirror_mode": {
    "name": "ipython",
    "version": 3
   },
   "file_extension": ".py",
   "mimetype": "text/x-python",
   "name": "python",
   "nbconvert_exporter": "python",
   "pygments_lexer": "ipython3",
   "version": "3.10.12"
  },
  "orig_nbformat": 4,
  "vscode": {
   "interpreter": {
    "hash": "916dbcbb3f70747c44a77c7bcd40155683ae19c65e1c03b4aa3499c5328201f1"
   }
  }
 },
 "nbformat": 4,
 "nbformat_minor": 2
}
